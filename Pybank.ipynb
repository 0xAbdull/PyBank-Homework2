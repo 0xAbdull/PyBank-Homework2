{
 "cells": [
  {
   "cell_type": "code",
   "execution_count": 181,
   "id": "b701f98b-747c-4e2e-85c1-70d84b68bedc",
   "metadata": {},
   "outputs": [
    {
     "name": "stdout",
     "output_type": "stream",
     "text": [
      "Financial Analysis\n",
      "_______________________________\n",
      "Total Months: 86\n",
      "Total: $ 38382578\n",
      "Average Change: $-2315.12\n",
      "Greatest Increase in Profits: $1926159.00\n",
      "Greatest Decrease in Profits:  $-2196167.00\n"
     ]
    }
   ],
   "source": [
    "import csv\n",
    "from pathlib import Path\n",
    "\n",
    "#location of the csv file\n",
    "csvpath = \"/Users/prsm/Downloads/Instructions-2/PyBank/Resources/budget_data.csv\"\n",
    "\n",
    "#read the data from the csv file\n",
    "with open(csvpath, 'r') as data:\n",
    "    csvread = csv.reader(data, delimiter = ',')\n",
    "    header = next(csvread)\n",
    "    \n",
    "    #assign virables \n",
    "    \n",
    "    months = 0\n",
    "    total = 0\n",
    "    p_loss = 0\n",
    "    change = 0\n",
    "    total_change = []\n",
    "    avg_change = 0    \n",
    "    greatest_increase = 0\n",
    "    greatest_decrease = 0\n",
    "    \n",
    "    def data_cal(data): \n",
    "        \n",
    "        #access global virables to modify\n",
    "        global months\n",
    "        global total \n",
    "        global p_loss \n",
    "        global change\n",
    "        global avg_change\n",
    "        global total_change\n",
    "        global greatest_increase\n",
    "        global greatest_decrease\n",
    "       \n",
    "        #iterate through scv file\n",
    "        for i in data:\n",
    "            months = months + 1\n",
    "            total = total + int(i[1])\n",
    "            \n",
    "            #chagne = current value - previous value\n",
    "            change = int(i[1]) - p_loss\n",
    "            \n",
    "            #assign greatest increase  \n",
    "            if change > greatest_increase:\n",
    "                greatest_increase = change\n",
    "            \n",
    "            #assign greatest decrease \n",
    "            if change < greatest_decrease:\n",
    "                greatest_decrease = change\n",
    "                \n",
    "            #current value\n",
    "            p_loss = int(i[1])\n",
    "            total_change = total_change + [change]\n",
    "        \n",
    "        #removing the first change since it's from 0 to the first data\n",
    "        total_change = total_change[1:]\n",
    "        #get the average change\n",
    "        avg_change = round((sum(total_change) / len(total_change)), 2)\n",
    " \n",
    "            \n",
    "    #call the data_cal function to preform calulcations\n",
    "    data_cal(csvread)\n",
    "    \n",
    "    #printting data\n",
    "    print(\"Financial Analysis\")\n",
    "    print(\"_______________________________\")\n",
    "    print(\"Total Months:\",months)\n",
    "    print(\"Total: $\",total)\n",
    "    print(\"Average Change: $%.2f\" %avg_change)\n",
    "    print(\"Greatest Increase in Profits: $%.2f\" %greatest_increase)\n",
    "    print(\"Greatest Decrease in Profits:  $%.2f\" %greatest_decrease)\n"
   ]
  },
  {
   "cell_type": "code",
   "execution_count": null,
   "id": "fd96d894-c5ef-4cf6-9291-99036b896355",
   "metadata": {},
   "outputs": [],
   "source": []
  }
 ],
 "metadata": {
  "kernelspec": {
   "display_name": "Python 3 (ipykernel)",
   "language": "python",
   "name": "python3"
  },
  "language_info": {
   "codemirror_mode": {
    "name": "ipython",
    "version": 3
   },
   "file_extension": ".py",
   "mimetype": "text/x-python",
   "name": "python",
   "nbconvert_exporter": "python",
   "pygments_lexer": "ipython3",
   "version": "3.9.13"
  }
 },
 "nbformat": 4,
 "nbformat_minor": 5
}
